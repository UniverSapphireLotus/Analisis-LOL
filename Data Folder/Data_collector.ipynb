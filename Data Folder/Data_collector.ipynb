{
  "nbformat": 4,
  "nbformat_minor": 0,
  "metadata": {
    "colab": {
      "provenance": [],
      "authorship_tag": "ABX9TyMSxpRwgcXfCxZaaczEGtRx",
      "include_colab_link": true
    },
    "kernelspec": {
      "name": "python3",
      "display_name": "Python 3"
    },
    "language_info": {
      "name": "python"
    }
  },
  "cells": [
    {
      "cell_type": "markdown",
      "metadata": {
        "id": "view-in-github",
        "colab_type": "text"
      },
      "source": [
        "<a href=\"https://colab.research.google.com/github/UniverSapphireLotus/Analisis-LOL/blob/main/Data%20Folder/Data_collector.ipynb\" target=\"_parent\"><img src=\"https://colab.research.google.com/assets/colab-badge.svg\" alt=\"Open In Colab\"/></a>"
      ]
    },
    {
      "cell_type": "code",
      "execution_count": null,
      "metadata": {
        "id": "lIOUO0gtuaXv"
      },
      "outputs": [],
      "source": [
        "print('jol')"
      ]
    },
    {
      "cell_type": "code",
      "source": [
        "#gaaaaaaaaaa"
      ],
      "metadata": {
        "id": "bBmidjM00o9s"
      },
      "execution_count": null,
      "outputs": []
    }
  ]
}